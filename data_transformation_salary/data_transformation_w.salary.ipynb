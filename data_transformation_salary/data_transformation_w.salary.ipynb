{
 "cells": [
  {
   "cell_type": "markdown",
   "id": "cc05b98c",
   "metadata": {},
   "source": [
    "# Data Transformation\n",
    "\n",
    "다양한 독립 변수를 활용해서 연봉을 예측할 수 있는 모델을 만들기 위한 데이터를 정제한다.\n",
    "\n",
    "1. Data merge\n",
    "2. Aggregation\n",
    "3. Pivot table\n",
    "4. Log\n",
    "5. One Hot Encoding\n",
    "6. Scaling\n",
    "6. PCA\n",
    "7. Project"
   ]
  },
  {
   "cell_type": "code",
   "execution_count": null,
   "id": "1e7d372a",
   "metadata": {},
   "outputs": [],
   "source": []
  }
 ],
 "metadata": {
  "kernelspec": {
   "display_name": "Python 3 (ipykernel)",
   "language": "python",
   "name": "python3"
  },
  "language_info": {
   "codemirror_mode": {
    "name": "ipython",
    "version": 3
   },
   "file_extension": ".py",
   "mimetype": "text/x-python",
   "name": "python",
   "nbconvert_exporter": "python",
   "pygments_lexer": "ipython3",
   "version": "3.9.7"
  }
 },
 "nbformat": 4,
 "nbformat_minor": 5
}
